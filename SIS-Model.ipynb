{
 "metadata": {
  "name": "",
  "signature": "sha256:c6e7ccfeabaedd66e5c9a00d52227d3d1681c5c61066d31e343890ce317d0faf"
 },
 "nbformat": 3,
 "nbformat_minor": 0,
 "worksheets": [
  {
   "cells": [
    {
     "cell_type": "markdown",
     "metadata": {},
     "source": [
      "# Tipping point models\n",
      "\n",
      "The SIS model from epidemiology as an example of a model exhibiting a tipping point. This model allows us to calculate the percentage of a population that needs to be vaccinated in order to get population level herd immunity.\n",
      "\n",
      "There's a nice animation [here](http://www.theguardian.com/society/ng-interactive/2015/feb/05/-sp-watch-how-measles-outbreak-spreads-when-kids-get-vaccinated).\n",
      "\n",
      "The discussion here is heavily based on the discussion of tipping points in Scott Page's very nice *coursera* course on [Model Thinking](https://www.coursera.org/learn/model-thinking/home/week/4). I essentially transcribed his algebra in SymPy."
     ]
    },
    {
     "cell_type": "markdown",
     "metadata": {},
     "source": [
      "## Diffusion model\n",
      "\n",
      "The first model we develop is a simple diffusion model. It has no tipping, but shows that the spread of infectious diseases is an accelating process, that becomes quicker as more people are infected.\n",
      "\n",
      "First some general definitions of symtobls."
     ]
    },
    {
     "cell_type": "code",
     "collapsed": false,
     "input": [
      "import sympy as sm\n",
      "sm.init_printing()\n",
      "from sympy.abc import N, c, t, tau\n",
      "Wt = sm.symbols('Wt')\n",
      "Wtt, Penc = sm.symbols('Wtt,Penc',cls=sm.Function)"
     ],
     "language": "python",
     "metadata": {},
     "outputs": [],
     "prompt_number": 31
    },
    {
     "cell_type": "markdown",
     "metadata": {},
     "source": [
      "Let $W_t$ be the number of sick people in the population, whose overall size is $N$. Here is the formula for $P_{enc}$,  the probability that a healthy person and a sick person meet. These are the cases in which an infection can happen. "
     ]
    },
    {
     "cell_type": "code",
     "collapsed": false,
     "input": [
      "Penc = (Wt/N)*((N - Wt)/N)"
     ],
     "language": "python",
     "metadata": {},
     "outputs": [],
     "prompt_number": 152
    },
    {
     "cell_type": "markdown",
     "metadata": {},
     "source": [
      "Using this we can write down the number of infected individuals in the next time period. It is $W_t$ plus the number of newly infected inviduals which depends on $P_{enc}$ as well as on $c$, the probability the people in the population interact, and $\\tau$, the transmission rate of the disease. "
     ]
    },
    {
     "cell_type": "code",
     "collapsed": false,
     "input": [
      "Wtt=N*c*Penc*tau + Wt"
     ],
     "language": "python",
     "metadata": {},
     "outputs": [],
     "prompt_number": 153
    },
    {
     "cell_type": "code",
     "collapsed": false,
     "input": [
      "Wtt"
     ],
     "language": "python",
     "metadata": {},
     "outputs": [
      {
       "latex": [
        "$$Wt + \\frac{Wt c}{N} \\tau \\left(N - Wt\\right)$$"
       ],
       "metadata": {},
       "output_type": "pyout",
       "png": "[encoded data removed]",
       "prompt_number": 154,
       "text": [
        "     Wt\u22c5c\u22c5\u03c4\u22c5(N - Wt)\n",
        "Wt + \u2500\u2500\u2500\u2500\u2500\u2500\u2500\u2500\u2500\u2500\u2500\u2500\u2500\u2500\u2500\n",
        "            N       "
       ]
      }
     ],
     "prompt_number": 154
    },
    {
     "cell_type": "markdown",
     "metadata": {},
     "source": [
      "To understand the dynamics of this process it is enough study how $P_{enc}$ changes as $W_t$ increases. "
     ]
    },
    {
     "cell_type": "code",
     "collapsed": false,
     "input": [
      "Penc"
     ],
     "language": "python",
     "metadata": {},
     "outputs": [
      {
       "latex": [
        "$$\\frac{Wt}{N^{2}} \\left(N - Wt\\right)$$"
       ],
       "metadata": {},
       "output_type": "pyout",
       "png": "[encoded data removed]",
       "prompt_number": 41,
       "text": [
        "Wt\u22c5(N - Wt)\n",
        "\u2500\u2500\u2500\u2500\u2500\u2500\u2500\u2500\u2500\u2500\u2500\n",
        "      2    \n",
        "     N     "
       ]
      }
     ],
     "prompt_number": 41
    },
    {
     "cell_type": "markdown",
     "metadata": {},
     "source": [
      "First, let's see what happens when $W_t$ is small and $N$ is large."
     ]
    },
    {
     "cell_type": "code",
     "collapsed": false,
     "input": [
      "Penc.subs([(Wt,1)])"
     ],
     "language": "python",
     "metadata": {},
     "outputs": [
      {
       "latex": [
        "$$\\frac{1}{N^{2}} \\left(N - 1\\right)$$"
       ],
       "metadata": {},
       "output_type": "pyout",
       "png": "[encoded data removed]",
       "prompt_number": 155,
       "text": [
        "N - 1\n",
        "\u2500\u2500\u2500\u2500\u2500\n",
        "   2 \n",
        "  N  "
       ]
      }
     ],
     "prompt_number": 155
    },
    {
     "cell_type": "code",
     "collapsed": false,
     "input": [
      "Penc.subs([(Wt,1)]).subs([(N-1,N)])"
     ],
     "language": "python",
     "metadata": {},
     "outputs": [
      {
       "latex": [
        "$$\\frac{1}{N}$$"
       ],
       "metadata": {},
       "output_type": "pyout",
       "png": "[encoded data removed]",
       "prompt_number": 156,
       "text": [
        "1\n",
        "\u2500\n",
        "N"
       ]
      }
     ],
     "prompt_number": 156
    },
    {
     "cell_type": "markdown",
     "metadata": {},
     "source": [
      "Or you can do it in one step"
     ]
    },
    {
     "cell_type": "code",
     "collapsed": false,
     "input": [
      "Penc.subs([(Wt,1),(N-1,N)])"
     ],
     "language": "python",
     "metadata": {},
     "outputs": [
      {
       "latex": [
        "$$\\frac{1}{N}$$"
       ],
       "metadata": {},
       "output_type": "pyout",
       "png": "[encoded data removed]",
       "prompt_number": 38,
       "text": [
        "1\n",
        "\u2500\n",
        "N"
       ]
      }
     ],
     "prompt_number": 38
    },
    {
     "cell_type": "markdown",
     "metadata": {},
     "source": [
      "Thus, when $W_t$ is small, the probability of encountering someone who is sick is low. What happens when $W_t$ is large, i.e. $W_t\\approx N$?"
     ]
    },
    {
     "cell_type": "code",
     "collapsed": false,
     "input": [
      "Penc.subs([(Wt,N)])"
     ],
     "language": "python",
     "metadata": {},
     "outputs": [
      {
       "latex": [
        "$$0$$"
       ],
       "metadata": {},
       "output_type": "pyout",
       "png": "[encoded data removed]",
       "prompt_number": 157,
       "text": [
        "0"
       ]
      }
     ],
     "prompt_number": 157
    },
    {
     "cell_type": "markdown",
     "metadata": {},
     "source": [
      "Zero?? How come?! The reason is simple (and symmetric): in this case the probability of encountering someone who is *healthy* is very low, hence the probability of an encouter between a sick person and a health person is low. To complete the picture, let's check what happens when $W_t=N/2$"
     ]
    },
    {
     "cell_type": "code",
     "collapsed": false,
     "input": [
      "Penc.subs([(Wt,N/2)])"
     ],
     "language": "python",
     "metadata": {},
     "outputs": [
      {
       "latex": [
        "$$\\frac{1}{4}$$"
       ],
       "metadata": {},
       "output_type": "pyout",
       "png": "[encoded data removed]",
       "prompt_number": 158,
       "text": [
        "1/4"
       ]
      }
     ],
     "prompt_number": 158
    },
    {
     "cell_type": "markdown",
     "metadata": {},
     "source": [
      "Ha!"
     ]
    },
    {
     "cell_type": "markdown",
     "metadata": {},
     "source": [
      "For completeness let's put down some assumptions and graph $W_t$ over time. Assume N=100, $\\tau=0.5$ (which is very high). Start with only on person sick, i.e. $W_0=1$. Let $c=0.5$ too."
     ]
    },
    {
     "cell_type": "code",
     "collapsed": false,
     "input": [
      "Wupdate=Wtt.subs([(N,100),(tau,0.5),(c,0.5)])"
     ],
     "language": "python",
     "metadata": {},
     "outputs": [],
     "prompt_number": 159
    },
    {
     "cell_type": "code",
     "collapsed": false,
     "input": [
      "ws=[1]\n",
      "for t in range(0,49):\n",
      "    ws.append(Wupdate.subs([(Wt,ws[-1:][0])]))"
     ],
     "language": "python",
     "metadata": {},
     "outputs": [],
     "prompt_number": 160
    },
    {
     "cell_type": "code",
     "collapsed": false,
     "input": [
      "%pylab inline"
     ],
     "language": "python",
     "metadata": {},
     "outputs": [
      {
       "output_type": "stream",
       "stream": "stdout",
       "text": [
        "Populating the interactive namespace from numpy and matplotlib\n"
       ]
      }
     ],
     "prompt_number": 161
    },
    {
     "cell_type": "code",
     "collapsed": false,
     "input": [
      "pylab.plot(range(0,50),ws)\n",
      "pylab.ylabel('Number of infected individuals')\n",
      "pylab.xlabel('time')\n",
      "pylab.title('Diffusion of infection')"
     ],
     "language": "python",
     "metadata": {},
     "outputs": [
      {
       "metadata": {},
       "output_type": "pyout",
       "prompt_number": 162,
       "text": [
        "<matplotlib.text.Text at 0xc14b08c>"
       ]
      },
      {
       "metadata": {},
       "output_type": "display_data",
       "png": "[encoded data removed]",
       "text": [
        "<matplotlib.figure.Figure at 0xc30478c>"
       ]
      }
     ],
     "prompt_number": 162
    },
    {
     "cell_type": "markdown",
     "metadata": {},
     "source": [
      "As Scott Page explains in his lecture, what we see here is simply an accelarting process, not a tipping point. This accelaration matches the expectation we developed earlier by studying algebracially the properties of $P_{enc}$."
     ]
    },
    {
     "cell_type": "markdown",
     "metadata": {},
     "source": [
      "## The SIS model"
     ]
    },
    {
     "cell_type": "markdown",
     "metadata": {},
     "source": [
      "We now turn to the SIS model (Susceptible-Infected-Susceptible). The difference is that now infected individuals can become cured, and reutrn to the pool of susceptible individuals (thus, being sick does not make you immune to subsequent reinfection). The difference consists solely of adding a term to $W_{t+1}$ measuring the numer of cured inviduals. Let $a$ be the rate of being cured."
     ]
    },
    {
     "cell_type": "code",
     "collapsed": false,
     "input": [
      "a = sm.symbols('a',negative=False, real=True)\n",
      "Wtt_sis = sm.symbols('Wtt_sis',cls=sm.Function)\n",
      "Wtt_sis = Wtt - a*Wt"
     ],
     "language": "python",
     "metadata": {},
     "outputs": [],
     "prompt_number": 163
    },
    {
     "cell_type": "code",
     "collapsed": false,
     "input": [
      "Wtt_sis"
     ],
     "language": "python",
     "metadata": {},
     "outputs": [
      {
       "latex": [
        "$$- Wt a + Wt + \\frac{Wt c}{N} \\tau \\left(N - Wt\\right)$$"
       ],
       "metadata": {},
       "output_type": "pyout",
       "png": "[encoded data removed]",
       "prompt_number": 167,
       "text": [
        "             Wt\u22c5c\u22c5\u03c4\u22c5(N - Wt)\n",
        "-Wt\u22c5a + Wt + \u2500\u2500\u2500\u2500\u2500\u2500\u2500\u2500\u2500\u2500\u2500\u2500\u2500\u2500\u2500\n",
        "                    N       "
       ]
      }
     ],
     "prompt_number": 167
    },
    {
     "cell_type": "markdown",
     "metadata": {},
     "source": [
      "We are just interested in the change, so let's simplify things a bit:"
     ]
    },
    {
     "cell_type": "code",
     "collapsed": false,
     "input": [
      "change=sm.collect(Wtt_sis -Wt,Wt)\n",
      "change"
     ],
     "language": "python",
     "metadata": {},
     "outputs": [
      {
       "latex": [
        "$$Wt \\left(- a + \\frac{c \\tau}{N} \\left(N - Wt\\right)\\right)$$"
       ],
       "metadata": {},
       "output_type": "pyout",
       "png": "[encoded data removed]",
       "prompt_number": 168,
       "text": [
        "   \u239b     c\u22c5\u03c4\u22c5(N - Wt)\u239e\n",
        "Wt\u22c5\u239c-a + \u2500\u2500\u2500\u2500\u2500\u2500\u2500\u2500\u2500\u2500\u2500\u2500\u239f\n",
        "   \u239d          N      \u23a0"
       ]
      }
     ],
     "prompt_number": 168
    },
    {
     "cell_type": "markdown",
     "metadata": {},
     "source": [
      "Now assume $Wt<<N$"
     ]
    },
    {
     "cell_type": "code",
     "collapsed": false,
     "input": [
      "change.subs([(N-Wt,N)])"
     ],
     "language": "python",
     "metadata": {},
     "outputs": [
      {
       "latex": [
        "$$Wt \\left(- a + c \\tau\\right)$$"
       ],
       "metadata": {},
       "output_type": "pyout",
       "png": "[encoded data removed]",
       "prompt_number": 169,
       "text": [
        "Wt\u22c5(-a + c\u22c5\u03c4)"
       ]
      }
     ],
     "prompt_number": 169
    },
    {
     "cell_type": "markdown",
     "metadata": {},
     "source": [
      "so the number of infections will increase (i.e., the infection will spread) if $c\\tau-a>0$, or $c\\tau/a>1$. This number $R_0=c\\tau/a$ is called the **Basic reproduction number**. If it is bigger than 1, the disease spreads. This (as opposed to that we saw in the diffusion model) is a true *tipping point*. $R_0$ values for several well-known diseases (via Wikipedia): Measles - 12-18; Mumps - 4-7; HIV - 2-5; Flu - 2-3; Ebola - 1.5-2.5. Ouch!"
     ]
    },
    {
     "cell_type": "markdown",
     "metadata": {},
     "source": [
      "### Vaccines"
     ]
    },
    {
     "cell_type": "markdown",
     "metadata": {},
     "source": [
      "Assuming a vaccine is 100%, we should check $r_0=R_0(1-v)$, where $v$ is the proportion of the population that is vaccinated (making $1-v$ the proportion of individuals who are not vaccinated) instead of $R_0$. If you are not sure why, review the expression used to derive $R_0$. For a vaccine to be effective we need $R_0(1-v)<1$ "
     ]
    },
    {
     "cell_type": "code",
     "collapsed": false,
     "input": [
      "v,R = sm.symbols('v,R',negative=False, real=True)\n",
      "R*(1-v)<1"
     ],
     "language": "python",
     "metadata": {},
     "outputs": [
      {
       "latex": [
        "$$R \\left(- v + 1\\right) < 1$$"
       ],
       "metadata": {},
       "output_type": "pyout",
       "png": "[encoded data removed]",
       "prompt_number": 170,
       "text": [
        "R\u22c5(-v + 1) < 1"
       ]
      }
     ],
     "prompt_number": 170
    },
    {
     "cell_type": "markdown",
     "metadata": {},
     "source": [
      "Thus"
     ]
    },
    {
     "cell_type": "code",
     "collapsed": false,
     "input": [
      "1-v<1/R"
     ],
     "language": "python",
     "metadata": {},
     "outputs": [
      {
       "latex": [
        "$$- v + 1 < \\frac{1}{R}$$"
       ],
       "metadata": {},
       "output_type": "pyout",
       "png": "[encoded data removed]",
       "prompt_number": 171,
       "text": [
        "         1\n",
        "-v + 1 < \u2500\n",
        "         R"
       ]
      }
     ],
     "prompt_number": 171
    },
    {
     "cell_type": "code",
     "collapsed": false,
     "input": [
      "v>1-1/R"
     ],
     "language": "python",
     "metadata": {},
     "outputs": [
      {
       "latex": [
        "$$v > 1 - \\frac{1}{R}$$"
       ],
       "metadata": {},
       "output_type": "pyout",
       "png": "[encoded data removed]",
       "prompt_number": 172,
       "text": [
        "        1\n",
        "v > 1 - \u2500\n",
        "        R"
       ]
      }
     ],
     "prompt_number": 172
    },
    {
     "cell_type": "markdown",
     "metadata": {},
     "source": [
      "$v$ has to be above this threshold for vaccination to be effective in stopping the spread othe disease. Below that number there is no population level effect (\"herd immunity\"). That's the key result: the beneifts do not increase linearly, with each vaccinated inidividual improving the protection of the population by the same amount. There's a tipping point, which depends on $R_0$. Thus, for measles, we need:"
     ]
    },
    {
     "cell_type": "code",
     "collapsed": false,
     "input": [
      "1-(1.0/18)"
     ],
     "language": "python",
     "metadata": {},
     "outputs": [
      {
       "latex": [
        "$$0.944444444444$$"
       ],
       "metadata": {},
       "output_type": "pyout",
       "png": "[encoded data removed]",
       "prompt_number": 175,
       "text": [
        "0.944444444444"
       ]
      }
     ],
     "prompt_number": 175
    },
    {
     "cell_type": "markdown",
     "metadata": {},
     "source": [
      "or essentially 95% of the population to be vaccinated to get herd immunity. This has profound policy implications.\n",
      "To be provocative: If you, as a health official, know that this number is unatainable (e.g., because too many people decide not to vaccinate their kids for some reason) -- should you recommend stopping the program to mandate vaccinatons on everyone else?"
     ]
    }
   ],
   "metadata": {}
  }
 ]
}