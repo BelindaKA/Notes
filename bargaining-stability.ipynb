{
 "metadata": {
  "name": "",
  "signature": "sha256:075b18592c4bf0d38c570d0099d61dfeec9f84ba18fbca214ac750cb9225b010"
 },
 "nbformat": 3,
 "nbformat_minor": 0,
 "worksheets": [
  {
   "cells": [
    {
     "cell_type": "code",
     "collapsed": false,
     "input": [
      "import sympy as sm\n",
      "sm.init_printing()"
     ],
     "language": "python",
     "metadata": {},
     "outputs": [],
     "prompt_number": 2
    },
    {
     "cell_type": "markdown",
     "metadata": {},
     "source": [
      "# Stability analysis of Model 1 from Skyrms (2014), chapter 4\n",
      "\n",
      "The game is divide the cake. There are three strategies: S1 - demand 1/3 of the cake; S2 - demand 2/3; S3 - demand 1/2.\n",
      "\n",
      "If the demands total more than 1, both players get noting. If they total less than or equal to 1, each player gets what she asked for.\n",
      "\n",
      "Let $x$ and $y$ be the frequencies of strategies S1 and S2 respectively, and $Ux$,$Uy$, and $Uz$ the expected payoff (i.e., fitness) of each strategy. Thus:\n",
      "\n",
      "$Ux(x,y)=1/3$\n",
      "\n",
      "$Uy(x,y)=(2/3)*x$\n",
      "\n",
      "$Uz(x,y)=(1-y)*(1/2)$\n"
     ]
    },
    {
     "cell_type": "code",
     "collapsed": false,
     "input": [
      "x,y,z = sm.symbols('x,y,z',negative=False, real=True)\n",
      "Ux,Uy,Uz,Ubar = sm.symbols('Ux,Uy,Uz,Ubar',cls=sm.Function)"
     ],
     "language": "python",
     "metadata": {},
     "outputs": [],
     "prompt_number": 3
    },
    {
     "cell_type": "code",
     "collapsed": false,
     "input": [
      "Ux=sm.Rational(1,3)\n",
      "Uy=sm.Rational(2,3)*x\n",
      "Uz=(1-y)*sm.Rational(1,2)\n",
      "Ubar=x*Ux+y*Uy+(1-x-y)*Uz"
     ],
     "language": "python",
     "metadata": {},
     "outputs": [],
     "prompt_number": 4
    },
    {
     "cell_type": "code",
     "collapsed": false,
     "input": [
      "sm.simplify(Ubar)"
     ],
     "language": "python",
     "metadata": {},
     "outputs": [
      {
       "latex": [
        "$$\\frac{7 x}{6} y - \\frac{x}{6} + \\frac{y^{2}}{2} - y + \\frac{1}{2}$$"
       ],
       "metadata": {},
       "output_type": "pyout",
       "png": "[encoded data removed]",
       "prompt_number": 5,
       "text": [
        "             2        \n",
        "7\u22c5x\u22c5y   x   y        1\n",
        "\u2500\u2500\u2500\u2500\u2500 - \u2500 + \u2500\u2500 - y + \u2500\n",
        "  6     6   2        2"
       ]
      }
     ],
     "prompt_number": 5
    },
    {
     "cell_type": "markdown",
     "metadata": {},
     "source": [
      "Recall the replicator equation:\n",
      "\n",
      "$\\dot{x_i} = x_i(U_i(\\boldsymbol{x})-\\bar{U}(\\boldsymbol{x}))$\n",
      "\n",
      "Thus:\n",
      "\n",
      "$\\dot{x} = x(Ux(x,y)-\\bar{U}(x,y)) $\n",
      "\n",
      "$\\dot{y} = y(Uy(x,y)-\\bar{U}(x,y)) $"
     ]
    },
    {
     "cell_type": "code",
     "collapsed": false,
     "input": [
      "xdot = x*(Ux - Ubar)\n",
      "xdot\n"
     ],
     "language": "python",
     "metadata": {},
     "outputs": [
      {
       "latex": [
        "$$x \\left(- \\frac{2 x}{3} y - \\frac{x}{3} - \\left(- \\frac{y}{2} + \\frac{1}{2}\\right) \\left(- x - y + 1\\right) + \\frac{1}{3}\\right)$$"
       ],
       "metadata": {},
       "output_type": "pyout",
       "png": "[encoded data removed]",
       "prompt_number": 6,
       "text": [
        "  \u239b  2\u22c5x\u22c5y   x   \u239b  y   1\u239e                1\u239e\n",
        "x\u22c5\u239c- \u2500\u2500\u2500\u2500\u2500 - \u2500 - \u239c- \u2500 + \u2500\u239f\u22c5(-x - y + 1) + \u2500\u239f\n",
        "  \u239d    3     3   \u239d  2   2\u23a0                3\u23a0"
       ]
      }
     ],
     "prompt_number": 6
    },
    {
     "cell_type": "code",
     "collapsed": false,
     "input": [
      "ydot=y*(Uy - Ubar)\n",
      "ydot"
     ],
     "language": "python",
     "metadata": {},
     "outputs": [
      {
       "latex": [
        "$$y \\left(- \\frac{2 x}{3} y + \\frac{x}{3} - \\left(- \\frac{y}{2} + \\frac{1}{2}\\right) \\left(- x - y + 1\\right)\\right)$$"
       ],
       "metadata": {},
       "output_type": "pyout",
       "png": "[encoded data removed]",
       "prompt_number": 7,
       "text": [
        "  \u239b  2\u22c5x\u22c5y   x   \u239b  y   1\u239e             \u239e\n",
        "y\u22c5\u239c- \u2500\u2500\u2500\u2500\u2500 + \u2500 - \u239c- \u2500 + \u2500\u239f\u22c5(-x - y + 1)\u239f\n",
        "  \u239d    3     3   \u239d  2   2\u23a0             \u23a0"
       ]
      }
     ],
     "prompt_number": 7
    },
    {
     "cell_type": "markdown",
     "metadata": {},
     "source": [
      "We want both xdot and ydot to equal zero, indicating an equilibrium, so we solve the two simultaneous equations."
     ]
    },
    {
     "cell_type": "code",
     "collapsed": false,
     "input": [
      "equilibria = sm.solve( [xdot, ydot], x, y )\n",
      "equilibria"
     ],
     "language": "python",
     "metadata": {},
     "outputs": [
      {
       "latex": [
        "$$\\left [ \\left ( 0, \\quad 0\\right ), \\quad \\left ( 0, \\quad 1\\right ), \\quad \\left ( \\frac{1}{2}, \\quad \\frac{1}{3}\\right ), \\quad \\left ( \\frac{1}{2}, \\quad \\frac{1}{2}\\right ), \\quad \\left ( 1, \\quad 0\\right )\\right ]$$"
       ],
       "metadata": {},
       "output_type": "pyout",
       "png": "[encoded data removed]",
       "prompt_number": 9,
       "text": [
        "[(0, 0), (0, 1), (1/2, 1/3), (1/2, 1/2), (1, 0)]"
       ]
      }
     ],
     "prompt_number": 9
    },
    {
     "cell_type": "markdown",
     "metadata": {},
     "source": [
      "These are the equilibria. We now check whether they are locally stable. As Skyrms explains (p. 56): \n",
      "\n",
      "    Their dynamical stability characteristics can be investigated by evaluating the eigenvalues of the Jacobian matrix... at the equilibrium point. If the eigenvalues all have non-zero real part, the equilibrium is said to be _hyperbolic_ and the eigenvalues determine the local dynamical stability properties of the equilibrium. If the real parts of the eigenvalues are all negative, then the equilibrium is called a _sink_, and it is asymptotically stable. If the real parts of the eigenvalues are positive, the equilibrium is called a _source_, and if both positive and negative real parts occurr it is called a _saddle_. Sources and saddles are unstable. If the point is non-hyperbolic, local stability must be investigated by other means.\n",
      "    \n",
      "Do not be too concerned if you do not know what all this means. Luckily, we can use the computer to find the eigenvalues and see if they are positive or negative.\n",
      "\n",
      "First we set up the Jacobian matrix, by putting the equations in a matrix."
     ]
    },
    {
     "cell_type": "code",
     "collapsed": false,
     "input": [
      "eqMat = sm.Matrix([ xdot, ydot ])\n",
      "resMat = sm.Matrix([ x, y ])\n",
      " \n",
      "jacMat = eqMat.jacobian(resMat)"
     ],
     "language": "python",
     "metadata": {},
     "outputs": [],
     "prompt_number": 12
    },
    {
     "cell_type": "code",
     "collapsed": false,
     "input": [
      "jacMat"
     ],
     "language": "python",
     "metadata": {},
     "outputs": [
      {
       "latex": [
        "$$\\left[\\begin{matrix}- \\frac{2 x}{3} y + x \\left(- \\frac{7 y}{6} + \\frac{1}{6}\\right) - \\frac{x}{3} - \\left(- \\frac{y}{2} + \\frac{1}{2}\\right) \\left(- x - y + 1\\right) + \\frac{1}{3} & x \\left(- \\frac{7 x}{6} - y + 1\\right)\\\\y \\left(- \\frac{7 y}{6} + \\frac{5}{6}\\right) & - \\frac{2 x}{3} y + \\frac{x}{3} + y \\left(- \\frac{7 x}{6} - y + 1\\right) - \\left(- \\frac{y}{2} + \\frac{1}{2}\\right) \\left(- x - y + 1\\right)\\end{matrix}\\right]$$"
       ],
       "metadata": {},
       "output_type": "pyout",
       "png": "[encoded data removed]",
       "prompt_number": 13,
       "text": [
        "\u23a1  2\u22c5x\u22c5y     \u239b  7\u22c5y   1\u239e   x   \u239b  y   1\u239e                1                     \n",
        "\u23a2- \u2500\u2500\u2500\u2500\u2500 + x\u22c5\u239c- \u2500\u2500\u2500 + \u2500\u239f - \u2500 - \u239c- \u2500 + \u2500\u239f\u22c5(-x - y + 1) + \u2500                     \n",
        "\u23a2    3       \u239d   6    6\u23a0   3   \u239d  2   2\u23a0                3                     \n",
        "\u23a2                                                                             \n",
        "\u23a2                       \u239b  7\u22c5y   5\u239e                          2\u22c5x\u22c5y   x     \u239b  \n",
        "\u23a2                     y\u22c5\u239c- \u2500\u2500\u2500 + \u2500\u239f                        - \u2500\u2500\u2500\u2500\u2500 + \u2500 + y\u22c5\u239c- \n",
        "\u23a3                       \u239d   6    6\u23a0                            3     3     \u239d  \n",
        "\n",
        "  \u239b  7\u22c5x        \u239e                    \u23a4\n",
        "x\u22c5\u239c- \u2500\u2500\u2500 - y + 1\u239f                    \u23a5\n",
        "  \u239d   6         \u23a0                    \u23a5\n",
        "                                     \u23a5\n",
        "7\u22c5x        \u239e   \u239b  y   1\u239e             \u23a5\n",
        "\u2500\u2500\u2500 - y + 1\u239f - \u239c- \u2500 + \u2500\u239f\u22c5(-x - y + 1)\u23a5\n",
        " 6         \u23a0   \u239d  2   2\u23a0             \u23a6"
       ]
      }
     ],
     "prompt_number": 13
    },
    {
     "cell_type": "markdown",
     "metadata": {},
     "source": [
      "Now that's some scary looking matrix! But not to worry, we will now simply go over all the equilibria points, and calculate for each one the values of the eigenvalues."
     ]
    },
    {
     "cell_type": "code",
     "collapsed": false,
     "input": [
      "# (0,0)\n",
      "\n",
      "map(lambda e: e.subs([(x,0),(y,0)]),jacMat.eigenvals().keys())"
     ],
     "language": "python",
     "metadata": {},
     "outputs": [
      {
       "latex": [
        "$$\\left [ - \\frac{1}{6}, \\quad - \\frac{1}{2}\\right ]$$"
       ],
       "metadata": {},
       "output_type": "pyout",
       "png": "[encoded data removed]",
       "prompt_number": 14,
       "text": [
        "[-1/6, -1/2]"
       ]
      }
     ],
     "prompt_number": 14
    },
    {
     "cell_type": "markdown",
     "metadata": {},
     "source": [
      "Hence (0,0) is stable. Which is not surprising since all but one strategy are extinct! Skyrms calls this the All Fair equilibrium."
     ]
    },
    {
     "cell_type": "code",
     "collapsed": false,
     "input": [
      "# (1,0)\n",
      "\n",
      "map(lambda e: e.subs([(x,1),(y,0)]),jacMat.eigenvals().keys())"
     ],
     "language": "python",
     "metadata": {},
     "outputs": [
      {
       "latex": [
        "$$\\left [ \\frac{1}{3}, \\quad \\frac{1}{6}\\right ]$$"
       ],
       "metadata": {},
       "output_type": "pyout",
       "png": "[encoded data removed]",
       "prompt_number": 15,
       "text": [
        "[1/3, 1/6]"
       ]
      }
     ],
     "prompt_number": 15
    },
    {
     "cell_type": "markdown",
     "metadata": {},
     "source": [
      "Skyrms's All Modest equilbrium. A source; unstable."
     ]
    },
    {
     "cell_type": "code",
     "collapsed": false,
     "input": [
      "# (1/2,1/2)\n",
      "\n",
      "map(lambda e: e.subs([(x,sm.Rational(1,2)),(y,sm.Rational(1,2))]),jacMat.eigenvals().keys())"
     ],
     "language": "python",
     "metadata": {},
     "outputs": [
      {
       "latex": [
        "$$\\left [ - \\frac{1}{12}, \\quad - \\frac{1}{6}\\right ]$$"
       ],
       "metadata": {},
       "output_type": "pyout",
       "png": "[encoded data removed]",
       "prompt_number": 16,
       "text": [
        "[-1/12, -1/6]"
       ]
      }
     ],
     "prompt_number": 16
    },
    {
     "cell_type": "markdown",
     "metadata": {},
     "source": [
      "Skyrms calls this the Modest-Greedy equlibrium, and it is also asymptotically stable."
     ]
    },
    {
     "cell_type": "code",
     "collapsed": false,
     "input": [
      "# (1/2,1/3)\n",
      "\n",
      "eig=map(lambda e: e.subs([(x,sm.Rational(1,2)),(y,sm.Rational(1,3))]),jacMat.eigenvals().keys())\n",
      "map(sm.N,eig)"
     ],
     "language": "python",
     "metadata": {},
     "outputs": [
      {
       "latex": [
        "$$\\left [ 0.063192144934316, \\quad -0.146525478267649\\right ]$$"
       ],
       "metadata": {},
       "output_type": "pyout",
       "png": "[encoded data removed]",
       "prompt_number": 274,
       "text": [
        "[0.063192144934316, -0.146525478267649]"
       ]
      }
     ],
     "prompt_number": 274
    },
    {
     "cell_type": "markdown",
     "metadata": {},
     "source": [
      "(here the compter produced a nasty fraction as the value, so on the second statement we asked sympy to calculate the numerical value)\n",
      "\n",
      "This is Skyrms's Modest-Greedy-Fair equilbirum. It is a saddle and unstable."
     ]
    },
    {
     "cell_type": "code",
     "collapsed": false,
     "input": [
      "# (0,1)\n",
      "\n",
      "map(lambda e: e.subs([(x,0),(y,1)]),jacMat.eigenvals().keys())"
     ],
     "language": "python",
     "metadata": {},
     "outputs": [
      {
       "latex": [
        "$$\\left [ \\frac{1}{3}, \\quad 0\\right ]$$"
       ],
       "metadata": {},
       "output_type": "pyout",
       "png": "[encoded data removed]",
       "prompt_number": 18,
       "text": [
        "[1/3, 0]"
       ]
      }
     ],
     "prompt_number": 18
    },
    {
     "cell_type": "markdown",
     "metadata": {},
     "source": [
      "The All Grredy equilibrium (y=1: everyone asks for 2/3). This is not a hyperbolic equilibrium, because of the zero eigenvalue. "
     ]
    }
   ],
   "metadata": {}
  }
 ]
}